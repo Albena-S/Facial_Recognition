{
 "cells": [
  {
   "cell_type": "code",
   "execution_count": 1,
   "metadata": {},
   "outputs": [],
   "source": [
    "import cv2"
   ]
  },
  {
   "cell_type": "code",
   "execution_count": 2,
   "metadata": {},
   "outputs": [],
   "source": [
    "import numpy as np\n",
    "from matplotlib import pyplot as plt\n",
    "\n",
    "img = cv2.imread('watch.jpg',cv2.IMREAD_GRAYSCALE)\n",
    "cv2.imshow('image',img)\n",
    "cv2.waitKey(0)\n",
    "cv2.destroyAllWindows()"
   ]
  },
  {
   "cell_type": "code",
   "execution_count": 3,
   "metadata": {},
   "outputs": [
    {
     "data": {
      "image/png": "[encoded data removed]",
      "text/plain": [
       "<Figure size 432x288 with 1 Axes>"
      ]
     },
     "metadata": {},
     "output_type": "display_data"
    }
   ],
   "source": [
    "img = cv2.imread('watch.jpg',cv2.IMREAD_GRAYSCALE)\n",
    "\n",
    "plt.imshow(img, cmap = 'gray', interpolation = 'bicubic')\n",
    "plt.xticks([]), plt.yticks([])  # to hide tick values on X and Y axis\n",
    "plt.plot([200,300,400],[100,200,300],'c', linewidth=5)\n",
    "plt.show()"
   ]
  },
  {
   "cell_type": "code",
   "execution_count": 4,
   "metadata": {},
   "outputs": [
    {
     "data": {
      "text/plain": [
       "True"
      ]
     },
     "execution_count": 4,
     "metadata": {},
     "output_type": "execute_result"
    }
   ],
   "source": [
    "cv2.imwrite('watchgray.png',img)"
   ]
  },
  {
   "cell_type": "code",
   "execution_count": 5,
   "metadata": {},
   "outputs": [
    {
     "name": "stdout",
     "output_type": "stream",
     "text": [
      "False\n",
      "0.0\n"
     ]
    },
    {
     "ename": "error",
     "evalue": "OpenCV(4.2.0) ../modules/imgproc/src/color.cpp:182: error: (-215:Assertion failed) !_src.empty() in function 'cvtColor'\n",
     "output_type": "error",
     "traceback": [
      "\u001b[0;31m---------------------------------------------------------------------------\u001b[0m",
      "\u001b[0;31merror\u001b[0m                                     Traceback (most recent call last)",
      "\u001b[0;32m<ipython-input-5-146e0d2f481a>\u001b[0m in \u001b[0;36m<module>\u001b[0;34m\u001b[0m\n\u001b[1;32m      4\u001b[0m \u001b[0;32mwhile\u001b[0m\u001b[0;34m(\u001b[0m\u001b[0;32mTrue\u001b[0m\u001b[0;34m)\u001b[0m\u001b[0;34m:\u001b[0m\u001b[0;34m\u001b[0m\u001b[0;34m\u001b[0m\u001b[0m\n\u001b[1;32m      5\u001b[0m     \u001b[0mret\u001b[0m\u001b[0;34m,\u001b[0m \u001b[0mframe\u001b[0m \u001b[0;34m=\u001b[0m \u001b[0mcap\u001b[0m\u001b[0;34m.\u001b[0m\u001b[0mread\u001b[0m\u001b[0;34m(\u001b[0m\u001b[0;34m)\u001b[0m\u001b[0;34m\u001b[0m\u001b[0;34m\u001b[0m\u001b[0m\n\u001b[0;32m----> 6\u001b[0;31m     \u001b[0mgray\u001b[0m \u001b[0;34m=\u001b[0m \u001b[0mcv2\u001b[0m\u001b[0;34m.\u001b[0m\u001b[0mcvtColor\u001b[0m\u001b[0;34m(\u001b[0m\u001b[0mframe\u001b[0m\u001b[0;34m,\u001b[0m \u001b[0mcv2\u001b[0m\u001b[0;34m.\u001b[0m\u001b[0mCOLOR_BGR2GRAY\u001b[0m\u001b[0;34m)\u001b[0m\u001b[0;34m\u001b[0m\u001b[0;34m\u001b[0m\u001b[0m\n\u001b[0m\u001b[1;32m      7\u001b[0m \u001b[0;34m\u001b[0m\u001b[0m\n\u001b[1;32m      8\u001b[0m     \u001b[0mcv2\u001b[0m\u001b[0;34m.\u001b[0m\u001b[0mimshow\u001b[0m\u001b[0;34m(\u001b[0m\u001b[0;34m'frame'\u001b[0m\u001b[0;34m,\u001b[0m\u001b[0mgray\u001b[0m\u001b[0;34m)\u001b[0m\u001b[0;34m\u001b[0m\u001b[0;34m\u001b[0m\u001b[0m\n",
      "\u001b[0;31merror\u001b[0m: OpenCV(4.2.0) ../modules/imgproc/src/color.cpp:182: error: (-215:Assertion failed) !_src.empty() in function 'cvtColor'\n"
     ]
    }
   ],
   "source": [
    "cap = cv2.VideoCapture(0)\n",
    "print(cap.isOpened())\n",
    "print(cap.get(3))\n",
    "while(True):\n",
    "    ret, frame = cap.read()\n",
    "    gray = cv2.cvtColor(frame, cv2.COLOR_BGR2GRAY)\n",
    " \n",
    "    cv2.imshow('frame',gray)\n",
    "    if cv2.waitKey(1) & 0xFF == ord('q'):\n",
    "        break\n",
    "\n",
    "cap.release()\n",
    "cv2.destroyAllWindows()"
   ]
  },
  {
   "cell_type": "code",
   "execution_count": 10,
   "metadata": {},
   "outputs": [],
   "source": [
    "img = cv2.imread('watch.jpg',cv2.IMREAD_COLOR)\n",
    "cv2.rectangle(img,(15,25),(200,150),(0,0,255),15)\n",
    "font = cv2.FONT_HERSHEY_SIMPLEX\n",
    "cv2.putText(img,'watch',(0,130), font, 1, (0,255,255), 2, cv2.LINE_AA)\n",
    "cv2.imshow('image',img)\n",
    "cv2.waitKey(0)\n",
    "cv2.destroyAllWindows()"
   ]
  },
  {
   "cell_type": "code",
   "execution_count": 14,
   "metadata": {},
   "outputs": [
    {
     "name": "stdout",
     "output_type": "stream",
     "text": [
      "[255 255 255]\n",
      "(168, 300, 3)\n",
      "151200\n",
      "uint8\n"
     ]
    }
   ],
   "source": [
    "img = cv2.imread('watch.jpg',cv2.IMREAD_COLOR)\n",
    "px = img[55,55]\n",
    "img[55,55] = [255,255,255]\n",
    "px = img[55,55]\n",
    "print(px)\n",
    "img[100:150,100:150] = [255,255,255]\n",
    "print(img.shape)\n",
    "print(img.size)\n",
    "print(img.dtype)\n",
    "watch_face = img[37:111,107:194]\n",
    "img[0:74,0:87] = watch_face\n",
    "cv2.imshow('image',img)\n",
    "cv2.waitKey(0)\n",
    "cv2.destroyAllWindows()"
   ]
  },
  {
   "cell_type": "code",
   "execution_count": 17,
   "metadata": {
    "scrolled": true
   },
   "outputs": [],
   "source": [
    "# 500 x 250\n",
    "img1 = cv2.imread('1.jpg')\n",
    "img2 = cv2.imread('2.jpeg')\n",
    "\n",
    "add = cv2.add(img1,img2)\n",
    "\n",
    "cv2.imshow('add',add)\n",
    "cv2.waitKey(0)\n",
    "cv2.destroyAllWindows()"
   ]
  },
  {
   "cell_type": "code",
   "execution_count": 20,
   "metadata": {},
   "outputs": [],
   "source": [
    "img1 = cv2.imread('1.jpg')\n",
    "img2 = cv2.imread('2.jpeg')\n",
    "weighted = cv2.addWeighted(img1, 0.2, img2, 0.8, 0)\n",
    "cv2.imshow('weighted',weighted)\n",
    "cv2.waitKey(0)\n",
    "cv2.destroyAllWindows()"
   ]
  },
  {
   "cell_type": "code",
   "execution_count": 21,
   "metadata": {},
   "outputs": [],
   "source": [
    "import cv2\n",
    "import numpy as np\n",
    "\n",
    "# Load two images\n",
    "img1 = cv2.imread('3D-Matplotlib.png')\n",
    "img2 = cv2.imread('mainlogo.png')\n",
    "\n",
    "# I want to put logo on top-left corner, So I create a ROI\n",
    "rows,cols,channels = img2.shape\n",
    "roi = img1[0:rows, 0:cols ]\n",
    "\n",
    "# Now create a mask of logo and create its inverse mask\n",
    "img2gray = cv2.cvtColor(img2,cv2.COLOR_BGR2GRAY)\n",
    "\n",
    "# add a threshold\n",
    "ret, mask = cv2.threshold(img2gray, 220, 255, cv2.THRESH_BINARY_INV)\n",
    "\n",
    "mask_inv = cv2.bitwise_not(mask)\n",
    "\n",
    "# Now black-out the area of logo in ROI\n",
    "img1_bg = cv2.bitwise_and(roi,roi,mask = mask_inv)\n",
    "\n",
    "# Take only region of logo from logo image.\n",
    "img2_fg = cv2.bitwise_and(img2,img2,mask = mask)\n",
    "\n",
    "dst = cv2.add(img1_bg,img2_fg)\n",
    "img1[0:rows, 0:cols ] = dst\n",
    "\n",
    "cv2.imshow('res',img1)\n",
    "cv2.waitKey(0)\n",
    "cv2.destroyAllWindows()"
   ]
  },
  {
   "cell_type": "code",
   "execution_count": 26,
   "metadata": {},
   "outputs": [],
   "source": [
    "grayscaled = cv2.cvtColor(img,cv2.COLOR_BGR2GRAY)\n",
    "retval, threshold = cv2.threshold(grayscaled, 10, 255, cv2.THRESH_BINARY)\n",
    "cv2.imshow('original',img)\n",
    "cv2.imshow('threshold',threshold)\n",
    "cv2.waitKey(0)\n",
    "cv2.destroyAllWindows()"
   ]
  },
  {
   "cell_type": "code",
   "execution_count": 30,
   "metadata": {},
   "outputs": [],
   "source": [
    "th = cv2.adaptiveThreshold(grayscaled, 255, cv2.ADAPTIVE_THRESH_GAUSSIAN_C, cv2.THRESH_BINARY, 115, 1)\n",
    "cv2.imshow('original',img)\n",
    "cv2.imshow('Adaptive threshold',th)\n",
    "cv2.waitKey(0)\n",
    "cv2.destroyAllWindows()"
   ]
  },
  {
   "cell_type": "code",
   "execution_count": 29,
   "metadata": {},
   "outputs": [],
   "source": [
    "retval2,threshold2 = cv2.threshold(grayscaled,125,255,cv2.THRESH_BINARY+cv2.THRESH_OTSU)\n",
    "cv2.imshow('original',img)\n",
    "cv2.imshow('Otsu threshold',threshold2)\n",
    "cv2.waitKey(0)\n",
    "cv2.destroyAllWindows()"
   ]
  },
  {
   "cell_type": "code",
   "execution_count": 36,
   "metadata": {},
   "outputs": [],
   "source": [
    "img = cv2.imread('ben.jpg')\n",
    "grayscaled = cv2.cvtColor(img,cv2.COLOR_BGR2GRAY)\n",
    "th = cv2.adaptiveThreshold(grayscaled, 255, cv2.ADAPTIVE_THRESH_GAUSSIAN_C, cv2.THRESH_BINARY, 115, 1)\n",
    "retval2,threshold2 = cv2.threshold(grayscaled,125,255,cv2.THRESH_BINARY+cv2.THRESH_OTSU)\n",
    "cv2.imshow('original',img)\n",
    "cv2.imshow('Adaptive threshold',th)\n",
    "cv2.imshow('Otsu threshold',threshold2)\n",
    "cv2.waitKey(0)\n",
    "cv2.destroyAllWindows()"
   ]
  },
  {
   "cell_type": "code",
   "execution_count": 51,
   "metadata": {},
   "outputs": [],
   "source": [
    "img = cv2.imread('ben.jpg')\n",
    "\n",
    "hsv = cv2.cvtColor(img, cv2.COLOR_BGR2HSV)\n",
    "    \n",
    "lower_red = np.array([80,120,160])\n",
    "upper_red = np.array([207,200,230])\n",
    "    \n",
    "mask = cv2.inRange(hsv, lower_red, upper_red)\n",
    "res = cv2.bitwise_and(img,img, mask= mask)\n",
    "\n",
    "cv2.imshow('img', img)\n",
    "cv2.imshow('mask',mask)\n",
    "cv2.imshow('res',res)\n",
    "\n",
    "\n",
    "cv2.waitKey(0)\n",
    "cv2.destroyAllWindows()"
   ]
  },
  {
   "cell_type": "code",
   "execution_count": 52,
   "metadata": {},
   "outputs": [
    {
     "name": "stdout",
     "output_type": "stream",
     "text": [
      "[[0.00444444 0.00444444 0.00444444 0.00444444 0.00444444 0.00444444\n",
      "  0.00444444 0.00444444 0.00444444 0.00444444 0.00444444 0.00444444\n",
      "  0.00444444 0.00444444 0.00444444]\n",
      " [0.00444444 0.00444444 0.00444444 0.00444444 0.00444444 0.00444444\n",
      "  0.00444444 0.00444444 0.00444444 0.00444444 0.00444444 0.00444444\n",
      "  0.00444444 0.00444444 0.00444444]\n",
      " [0.00444444 0.00444444 0.00444444 0.00444444 0.00444444 0.00444444\n",
      "  0.00444444 0.00444444 0.00444444 0.00444444 0.00444444 0.00444444\n",
      "  0.00444444 0.00444444 0.00444444]\n",
      " [0.00444444 0.00444444 0.00444444 0.00444444 0.00444444 0.00444444\n",
      "  0.00444444 0.00444444 0.00444444 0.00444444 0.00444444 0.00444444\n",
      "  0.00444444 0.00444444 0.00444444]\n",
      " [0.00444444 0.00444444 0.00444444 0.00444444 0.00444444 0.00444444\n",
      "  0.00444444 0.00444444 0.00444444 0.00444444 0.00444444 0.00444444\n",
      "  0.00444444 0.00444444 0.00444444]\n",
      " [0.00444444 0.00444444 0.00444444 0.00444444 0.00444444 0.00444444\n",
      "  0.00444444 0.00444444 0.00444444 0.00444444 0.00444444 0.00444444\n",
      "  0.00444444 0.00444444 0.00444444]\n",
      " [0.00444444 0.00444444 0.00444444 0.00444444 0.00444444 0.00444444\n",
      "  0.00444444 0.00444444 0.00444444 0.00444444 0.00444444 0.00444444\n",
      "  0.00444444 0.00444444 0.00444444]\n",
      " [0.00444444 0.00444444 0.00444444 0.00444444 0.00444444 0.00444444\n",
      "  0.00444444 0.00444444 0.00444444 0.00444444 0.00444444 0.00444444\n",
      "  0.00444444 0.00444444 0.00444444]\n",
      " [0.00444444 0.00444444 0.00444444 0.00444444 0.00444444 0.00444444\n",
      "  0.00444444 0.00444444 0.00444444 0.00444444 0.00444444 0.00444444\n",
      "  0.00444444 0.00444444 0.00444444]\n",
      " [0.00444444 0.00444444 0.00444444 0.00444444 0.00444444 0.00444444\n",
      "  0.00444444 0.00444444 0.00444444 0.00444444 0.00444444 0.00444444\n",
      "  0.00444444 0.00444444 0.00444444]\n",
      " [0.00444444 0.00444444 0.00444444 0.00444444 0.00444444 0.00444444\n",
      "  0.00444444 0.00444444 0.00444444 0.00444444 0.00444444 0.00444444\n",
      "  0.00444444 0.00444444 0.00444444]\n",
      " [0.00444444 0.00444444 0.00444444 0.00444444 0.00444444 0.00444444\n",
      "  0.00444444 0.00444444 0.00444444 0.00444444 0.00444444 0.00444444\n",
      "  0.00444444 0.00444444 0.00444444]\n",
      " [0.00444444 0.00444444 0.00444444 0.00444444 0.00444444 0.00444444\n",
      "  0.00444444 0.00444444 0.00444444 0.00444444 0.00444444 0.00444444\n",
      "  0.00444444 0.00444444 0.00444444]\n",
      " [0.00444444 0.00444444 0.00444444 0.00444444 0.00444444 0.00444444\n",
      "  0.00444444 0.00444444 0.00444444 0.00444444 0.00444444 0.00444444\n",
      "  0.00444444 0.00444444 0.00444444]\n",
      " [0.00444444 0.00444444 0.00444444 0.00444444 0.00444444 0.00444444\n",
      "  0.00444444 0.00444444 0.00444444 0.00444444 0.00444444 0.00444444\n",
      "  0.00444444 0.00444444 0.00444444]]\n"
     ]
    }
   ],
   "source": [
    "img = cv2.imread('test.png')\n",
    "\n",
    "hsv = cv2.cvtColor(img, cv2.COLOR_BGR2HSV)\n",
    "    \n",
    "lower_red = np.array([30,150,50])\n",
    "upper_red = np.array([255,255,180])\n",
    "    \n",
    "mask = cv2.inRange(hsv, lower_red, upper_red)\n",
    "res = cv2.bitwise_and(img,img, mask= mask)\n",
    "\n",
    "kernel = np.ones((15,15),np.float32)/225\n",
    "smoothed = cv2.filter2D(res,-1,kernel)\n",
    "\n",
    "cv2.imshow('img', img)\n",
    "cv2.imshow('mask',smoothed)\n",
    "\n",
    "\n",
    "cv2.waitKey(0)\n",
    "cv2.destroyAllWindows()"
   ]
  },
  {
   "cell_type": "code",
   "execution_count": null,
   "metadata": {},
   "outputs": [],
   "source": []
  }
 ],
 "metadata": {
  "kernelspec": {
   "display_name": "Python 3",
   "language": "python",
   "name": "python3"
  },
  "language_info": {
   "codemirror_mode": {
    "name": "ipython",
    "version": 3
   },
   "file_extension": ".py",
   "mimetype": "text/x-python",
   "name": "python",
   "nbconvert_exporter": "python",
   "pygments_lexer": "ipython3",
   "version": "3.8.10"
  }
 },
 "nbformat": 4,
 "nbformat_minor": 4
}
