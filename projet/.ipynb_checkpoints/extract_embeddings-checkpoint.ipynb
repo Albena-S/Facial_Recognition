{
 "cells": [
  {
   "cell_type": "code",
   "execution_count": 29,
   "id": "731626ad",
   "metadata": {},
   "outputs": [
    {
     "name": "stdout",
     "output_type": "stream",
     "text": [
      "Defaulting to user installation because normal site-packages is not writeable\n",
      "\u001b[31mERROR: Could not find a version that satisfies the requirement jupyter_argparser (from versions: none)\u001b[0m\u001b[31m\n",
      "\u001b[0m\u001b[31mERROR: No matching distribution found for jupyter_argparser\u001b[0m\u001b[31m\n",
      "\u001b[0m\u001b[33mWARNING: You are using pip version 22.0.3; however, version 22.0.4 is available.\n",
      "You should consider upgrading via the '/usr/bin/python3 -m pip install --upgrade pip' command.\u001b[0m\u001b[33m\n",
      "\u001b[0mNote: you may need to restart the kernel to use updated packages.\n"
     ]
    }
   ],
   "source": [
    "pip install jupyter_argparser"
   ]
  },
  {
   "cell_type": "code",
   "execution_count": 49,
   "id": "b48e356d",
   "metadata": {},
   "outputs": [
    {
     "data": {
      "text/plain": [
       "'openface.nn4.small2.v1.t7'"
      ]
     },
     "execution_count": 49,
     "metadata": {},
     "output_type": "execute_result"
    }
   ],
   "source": [
    "# import the necessary packages\n",
    "from imutils import paths\n",
    "import numpy as np\n",
    "import argparse\n",
    "import imutils\n",
    "import pickle\n",
    "import cv2\n",
    "import os\n",
    "\n",
    "# # construct the argument parser and parse the arguments\n",
    "# ap = argparse.ArgumentParser()\n",
    "# ap.add_argument(\"-i\", \"--dataset\", required=True,\n",
    "# \thelp=\"path to input directory of faces + images\")\n",
    "# ap.add_argument(\"-e\", \"--embeddings\", required=True,\n",
    "# \thelp=\"path to output serialized db of facial embeddings\")\n",
    "# ap.add_argument(\"-d\", \"--detector\", required=True,\n",
    "# \thelp=\"path to OpenCV's deep learning face detector\")\n",
    "# ap.add_argument(\"-m\", \"--embedding-model\", required=True,\n",
    "# \thelp=\"path to OpenCV's deep learning face embedding model\")\n",
    "# ap.add_argument(\"-c\", \"--confidence\", type=float, default=0.5,\n",
    "# \thelp=\"minimum probability to filter weak detections\")\n",
    "# # args = vars(ap.parse_args())\n",
    "# args = parser.parse_args(args=['--dataset', '10', '--embeddings', '10'])\n",
    "\n",
    "class Args:\n",
    "    dataset = 'dataset/'\n",
    "    embeddings = '/'\n",
    "    detector = 'face_detection_model/'\n",
    "    embedding_model = 'openface.nn4.small2.v1.t7'\n",
    "    confidence = '0.5'\n",
    "    \n",
    "  \n",
    "\n",
    "args = Args()\n",
    "args.embedding_model"
   ]
  },
  {
   "cell_type": "code",
   "execution_count": 48,
   "id": "94ea71d7",
   "metadata": {},
   "outputs": [
    {
     "name": "stdout",
     "output_type": "stream",
     "text": [
      "[INFO] loading face detector...\n",
      "[INFO] loading face recognizer...\n"
     ]
    }
   ],
   "source": [
    "# load our serialized face detector from disk\n",
    "print(\"[INFO] loading face detector...\")\n",
    "protoPath = os.path.sep.join([args.detector, \"deploy.prototxt.txt\"])\n",
    "modelPath = os.path.sep.join([args.detector,\n",
    "\t\"res10_300x300_ssd_iter_140000.caffemodel\"])\n",
    "detector = cv2.dnn.readNetFromCaffe(protoPath, modelPath)\n",
    "# load our serialized face embedding model from disk\n",
    "print(\"[INFO] loading face recognizer...\")\n",
    "embedder = cv2.dnn.readNetFromTorch(args.embedding_model)"
   ]
  },
  {
   "cell_type": "code",
   "execution_count": 52,
   "id": "b3031a54",
   "metadata": {},
   "outputs": [
    {
     "name": "stdout",
     "output_type": "stream",
     "text": [
      "[INFO] quantifying faces...\n"
     ]
    },
    {
     "ename": "NameError",
     "evalue": "name 'imagePath' is not defined",
     "output_type": "error",
     "traceback": [
      "\u001b[0;31m---------------------------------------------------------------------------\u001b[0m",
      "\u001b[0;31mNameError\u001b[0m                                 Traceback (most recent call last)",
      "Input \u001b[0;32mIn [52]\u001b[0m, in \u001b[0;36m<cell line: 10>\u001b[0;34m()\u001b[0m\n\u001b[1;32m      8\u001b[0m \u001b[38;5;66;03m# initialize the total number of faces processed\u001b[39;00m\n\u001b[1;32m      9\u001b[0m total \u001b[38;5;241m=\u001b[39m \u001b[38;5;241m0\u001b[39m\n\u001b[0;32m---> 10\u001b[0m \u001b[43mimagePath\u001b[49m\u001b[38;5;241m.\u001b[39msplit(os\u001b[38;5;241m.\u001b[39mpath\u001b[38;5;241m.\u001b[39msep)[\u001b[38;5;241m-\u001b[39m\u001b[38;5;241m2\u001b[39m]\n",
      "\u001b[0;31mNameError\u001b[0m: name 'imagePath' is not defined"
     ]
    }
   ],
   "source": [
    "# grab the paths to the input images in our dataset\n",
    "print(\"[INFO] quantifying faces...\")\n",
    "imagePaths = list(paths.list_images(args.dataset))\n",
    "# initialize our lists of extracted facial embeddings and\n",
    "# corresponding people names\n",
    "knownEmbeddings = []\n",
    "knownNames = []\n",
    "# initialize the total number of faces processed\n",
    "total = 0\n"
   ]
  },
  {
   "cell_type": "code",
   "execution_count": 56,
   "id": "71a832bf",
   "metadata": {},
   "outputs": [
    {
     "name": "stdout",
     "output_type": "stream",
     "text": [
      "[INFO] processing image 1/10\n",
      "[INFO] processing image 2/10\n",
      "[INFO] processing image 3/10\n",
      "[INFO] processing image 4/10\n",
      "[INFO] processing image 5/10\n",
      "[INFO] processing image 6/10\n",
      "[INFO] processing image 7/10\n",
      "[INFO] processing image 8/10\n",
      "[INFO] processing image 9/10\n",
      "[INFO] processing image 10/10\n"
     ]
    }
   ],
   "source": [
    "# loop over the image paths\n",
    "for (i, imagePath) in enumerate(imagePaths):\n",
    "    # extract the person name from the image path\n",
    "    print(\"[INFO] processing image {}/{}\".format(i + 1,len(imagePaths)))\n",
    "    name = imagePath.split(os.path.sep)[-2]\n",
    "    # load the image, resize it to have a width of 600 pixels (while\n",
    "    # maintaining the aspect ratio), and then grab the image\n",
    "    # dimensions\n",
    "    image = cv2.imread(imagePath)\n",
    "    image = imutils.resize(image, width=600)\n",
    "#     cv2.imshow(name, image)\n",
    "#     cv2.waitKey(0)\n",
    "#     cv2.destroyAllWindows()\n",
    "    (h, w) = image.shape[:2]"
   ]
  }
 ],
 "metadata": {
  "kernelspec": {
   "display_name": "Python 3 (ipykernel)",
   "language": "python",
   "name": "python3"
  },
  "language_info": {
   "codemirror_mode": {
    "name": "ipython",
    "version": 3
   },
   "file_extension": ".py",
   "mimetype": "text/x-python",
   "name": "python",
   "nbconvert_exporter": "python",
   "pygments_lexer": "ipython3",
   "version": "3.8.10"
  }
 },
 "nbformat": 4,
 "nbformat_minor": 5
}
