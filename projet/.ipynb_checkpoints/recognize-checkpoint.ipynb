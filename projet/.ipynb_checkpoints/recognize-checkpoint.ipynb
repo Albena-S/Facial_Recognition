{
 "cells": [
  {
   "cell_type": "code",
   "execution_count": 1,
   "id": "4cd50b59",
   "metadata": {},
   "outputs": [],
   "source": [
    "# import the necessary packages\n",
    "import numpy as np\n",
    "import argparse\n",
    "import imutils\n",
    "import pickle\n",
    "import cv2\n",
    "import os\n",
    "# construct the argument parser and parse the arguments\n",
    "\n",
    "class Args:\n",
    "    image = 'images_test/Erwan.jpg'\n",
    "    embeddings = 'output/embeddings.pickle'\n",
    "    detector = 'face_detection_model/'\n",
    "    embedding_model = 'openface.nn4.small2.v1.t7'\n",
    "    confidence = 0.8\n",
    "    le = 'output/le.pickle'\n",
    "    recognizer = 'output/recognizer.pickle'\n",
    "    \n",
    "args = Args()\n",
    "    "
   ]
  },
  {
   "cell_type": "code",
   "execution_count": 2,
   "id": "dd32f685",
   "metadata": {},
   "outputs": [
    {
     "name": "stdout",
     "output_type": "stream",
     "text": [
      "[INFO] loading face detector...\n",
      "[INFO] loading face recognizer...\n"
     ]
    }
   ],
   "source": [
    "# load our serialized face detector from disk\n",
    "print(\"[INFO] loading face detector...\")\n",
    "protoPath = os.path.sep.join([args.detector, \"deploy.prototxt.txt\"])\n",
    "modelPath = os.path.sep.join([args.detector,\n",
    "\t\"res10_300x300_ssd_iter_140000.caffemodel\"])\n",
    "detector = cv2.dnn.readNetFromCaffe(protoPath, modelPath)\n",
    "# load our serialized face embedding model from disk\n",
    "print(\"[INFO] loading face recognizer...\")\n",
    "embedder = cv2.dnn.readNetFromTorch(args.embedding_model)\n",
    "# load the actual face recognition model along with the label encoder\n",
    "recognizer = pickle.loads(open(args.recognizer, \"rb\").read())\n",
    "le = pickle.loads(open(args.le, \"rb\").read())"
   ]
  },
  {
   "cell_type": "code",
   "execution_count": null,
   "id": "4d128d59",
   "metadata": {},
   "outputs": [],
   "source": [
    "# load the image, resize it to have a width of 600 pixels (while\n",
    "# maintaining the aspect ratio), and then grab the image dimensions\n",
    "image = cv2.imread(args.image)\n",
    "image = imutils.resize(image, width=600)\n",
    "(h, w) = image.shape[:2]\n",
    "# construct a blob from the image\n",
    "imageBlob = cv2.dnn.blobFromImage(\n",
    "    cv2.resize(image, (300, 300)), 1.0, (300, 300),\n",
    "    (104.0, 177.0, 123.0), swapRB=False, crop=False)\n",
    "# apply OpenCV's deep learning-based face detector to localize\n",
    "# faces in the input image\n",
    "detector.setInput(imageBlob)\n",
    "detections = detector.forward()\n",
    "\n",
    "# loop over the detections\n",
    "for i in range(0, detections.shape[2]):\n",
    "    # extract the confidence (i.e., probability) associated with the\n",
    "    # prediction\n",
    "    confidence = detections[0, 0, i, 2]\n",
    "    # filter out weak detections\n",
    "    if confidence > args.confidence:\n",
    "        # compute the (x, y)-coordinates of the bounding box for the\n",
    "        # face\n",
    "        box = detections[0, 0, i, 3:7] * np.array([w, h, w, h])\n",
    "        (startX, startY, endX, endY) = box.astype(\"int\")\n",
    "        # extract the face ROI\n",
    "        face = image[startY:endY, startX:endX]\n",
    "#         cv2.imshow(\"Alexandre\", face)\n",
    "#         cv2.waitKey(0)\n",
    "#         cv2.destroyAllWindows()\n",
    "        (fH, fW) = face.shape[:2]\n",
    "        # ensure the face width and height are sufficiently large\n",
    "        if fW < 20 or fH < 20:\n",
    "            continue\n",
    "        # construct a blob for the face ROI, then pass the blob\n",
    "        # through our face embedding model to obtain the 128-d\n",
    "        # quantification of the face\n",
    "        faceBlob = cv2.dnn.blobFromImage(face, 1.0 / 255, (96, 96),(0, 0, 0), swapRB=True, crop=False)\n",
    "        embedder.setInput(faceBlob)\n",
    "        vec = embedder.forward()\n",
    "        # perform classification to recognize the face\n",
    "        preds = recognizer.predict_proba(vec)[0]\n",
    "        j = np.argmax(preds)\n",
    "        proba = preds[j]\n",
    "        name = le.classes_[j]\n",
    "        # draw the bounding box of the face along with the associated\n",
    "        # probability\n",
    "        text = \"{}: {:.2f}%\".format(name, proba * 100)\n",
    "        y = startY - 10 if startY - 10 > 10 else startY + 10\n",
    "        cv2.rectangle(image, (startX, startY), (endX, endY),\n",
    "            (0, 0, 255), 2)\n",
    "        cv2.putText(image, text, (startX, y),\n",
    "            cv2.FONT_HERSHEY_SIMPLEX, 0.45, (0, 0, 255), 1.4)\n",
    "# show the output image\n",
    "cv2.imshow(\"Image\", image)\n",
    "cv2.waitKey(0)\n",
    "cv2.destroyAllWindows()"
   ]
  },
  {
   "cell_type": "code",
   "execution_count": null,
   "id": "b745a84f",
   "metadata": {},
   "outputs": [],
   "source": []
  }
 ],
 "metadata": {
  "kernelspec": {
   "display_name": "Python 3 (ipykernel)",
   "language": "python",
   "name": "python3"
  },
  "language_info": {
   "codemirror_mode": {
    "name": "ipython",
    "version": 3
   },
   "file_extension": ".py",
   "mimetype": "text/x-python",
   "name": "python",
   "nbconvert_exporter": "python",
   "pygments_lexer": "ipython3",
   "version": "3.8.10"
  }
 },
 "nbformat": 4,
 "nbformat_minor": 5
}
