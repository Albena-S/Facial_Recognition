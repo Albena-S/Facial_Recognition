{
 "cells": [
  {
   "cell_type": "code",
   "execution_count": 1,
   "id": "26d0b5b8",
   "metadata": {},
   "outputs": [],
   "source": [
    "# pip install jupyter_argparser"
   ]
  },
  {
   "cell_type": "code",
   "execution_count": 2,
   "id": "1c8d7201",
   "metadata": {},
   "outputs": [
    {
     "data": {
      "text/plain": [
       "'openface.nn4.small2.v1.t7'"
      ]
     },
     "execution_count": 2,
     "metadata": {},
     "output_type": "execute_result"
    }
   ],
   "source": [
    "# import the necessary packages\n",
    "from imutils import paths\n",
    "import numpy as np\n",
    "import argparse\n",
    "import imutils\n",
    "import pickle\n",
    "import cv2\n",
    "import os\n",
    "\n",
    "# # construct the argument parser and parse the arguments\n",
    "# ap = argparse.ArgumentParser()\n",
    "# ap.add_argument(\"-i\", \"--dataset\", required=True,\n",
    "# \thelp=\"path to input directory of faces + images\")\n",
    "# ap.add_argument(\"-e\", \"--embeddings\", required=True,\n",
    "# \thelp=\"path to output serialized db of facial embeddings\")\n",
    "# ap.add_argument(\"-d\", \"--detector\", required=True,\n",
    "# \thelp=\"path to OpenCV's deep learning face detector\")\n",
    "# ap.add_argument(\"-m\", \"--embedding-model\", required=True,\n",
    "# \thelp=\"path to OpenCV's deep learning face embedding model\")\n",
    "# ap.add_argument(\"-c\", \"--confidence\", type=float, default=0.5,\n",
    "# \thelp=\"minimum probability to filter weak detections\")\n",
    "# # args = vars(ap.parse_args())\n",
    "# args = parser.parse_args(args=['--dataset', '10', '--embeddings', '10'])\n",
    "\n",
    "class Args:\n",
    "    dataset = 'dataset/'\n",
    "    embeddings = 'output/embeddings.pickle'\n",
    "    detector = 'face_detection_model/'\n",
    "    embedding_model = 'openface.nn4.small2.v1.t7'\n",
    "    confidence = 0.8\n",
    "    \n",
    "  \n",
    "\n",
    "args = Args()\n",
    "args.embedding_model"
   ]
  },
  {
   "cell_type": "code",
   "execution_count": 3,
   "id": "85bbbd37",
   "metadata": {},
   "outputs": [
    {
     "name": "stdout",
     "output_type": "stream",
     "text": [
      "[INFO] loading face detector...\n",
      "[INFO] loading face recognizer...\n"
     ]
    }
   ],
   "source": [
    "# load our serialized face detector from disk\n",
    "print(\"[INFO] loading face detector...\")\n",
    "protoPath = os.path.sep.join([args.detector, \"deploy.prototxt.txt\"])\n",
    "modelPath = os.path.sep.join([args.detector,\n",
    "\t\"res10_300x300_ssd_iter_140000.caffemodel\"])\n",
    "detector = cv2.dnn.readNetFromCaffe(protoPath, modelPath)\n",
    "# load our serialized face embedding model from disk\n",
    "print(\"[INFO] loading face recognizer...\")\n",
    "embedder = cv2.dnn.readNetFromTorch(args.embedding_model)"
   ]
  },
  {
   "cell_type": "code",
   "execution_count": 4,
   "id": "d52a1935",
   "metadata": {},
   "outputs": [
    {
     "name": "stdout",
     "output_type": "stream",
     "text": [
      "[INFO] quantifying faces...\n"
     ]
    }
   ],
   "source": [
    "# grab the paths to the input images in our dataset\n",
    "print(\"[INFO] quantifying faces...\")\n",
    "imagePaths = list(paths.list_images(args.dataset))\n"
   ]
  },
  {
   "cell_type": "code",
   "execution_count": 5,
   "id": "f0cee709",
   "metadata": {},
   "outputs": [
    {
     "name": "stdout",
     "output_type": "stream",
     "text": [
      "[INFO] processing image 1/19\n",
      "[INFO] processing image 2/19\n",
      "[INFO] processing image 3/19\n",
      "[INFO] processing image 4/19\n",
      "[INFO] processing image 5/19\n",
      "[INFO] processing image 6/19\n",
      "[INFO] processing image 7/19\n",
      "[INFO] processing image 8/19\n",
      "[INFO] processing image 9/19\n",
      "[INFO] processing image 10/19\n",
      "[INFO] processing image 11/19\n",
      "[INFO] processing image 12/19\n",
      "[INFO] processing image 13/19\n",
      "[INFO] processing image 14/19\n",
      "[INFO] processing image 15/19\n",
      "[INFO] processing image 16/19\n",
      "[INFO] processing image 17/19\n",
      "[INFO] processing image 18/19\n",
      "[INFO] processing image 19/19\n"
     ]
    }
   ],
   "source": [
    "# initialize our lists of extracted facial embeddings and\n",
    "# corresponding people names\n",
    "knownEmbeddings = []\n",
    "knownNames = []\n",
    "# initialize the total number of faces processed\n",
    "total = 0\n",
    "\n",
    "# loop over the image paths\n",
    "for (i, imagePath) in enumerate(imagePaths):\n",
    "    # extract the person name from the image path\n",
    "    print(\"[INFO] processing image {}/{}\".format(i + 1,len(imagePaths)))\n",
    "    name = imagePath.split(os.path.sep)[-2]\n",
    "    # load the image, resize it to have a width of 600 pixels (while\n",
    "    # maintaining the aspect ratio), and then grab the image\n",
    "    # dimensions\n",
    "    image = cv2.imread(imagePath)\n",
    "    image = imutils.resize(image, width=600)\n",
    "#     cv2.imshow(name, image)\n",
    "#     cv2.waitKey(0)\n",
    "#     cv2.destroyAllWindows()\n",
    "    (h, w) = image.shape[:2]\n",
    "    # construct a blob from the image\n",
    "    imageBlob = cv2.dnn.blobFromImage(\n",
    "        cv2.resize(image, (300, 300)), 1.0, (300, 300),\n",
    "        (104.0, 177.0, 123.0), swapRB=False, crop=False)\n",
    "    # apply OpenCV's deep learning-based face detector to localize\n",
    "    # faces in the input image\n",
    "    detector.setInput(imageBlob)\n",
    "    detections = detector.forward()\n",
    "    # ensure at least one face was found\n",
    "    if len(detections) > 0:\n",
    "        # we're making the assumption that each image has only ONE\n",
    "        # face, so find the bounding box with the largest probability\n",
    "        i = np.argmax(detections[0, 0, :, 2])\n",
    "        confidence = detections[0, 0, i, 2]\n",
    "        # ensure that the detection with the largest probability also\n",
    "        # means our minimum probability test (thus helping filter out\n",
    "        # weak detections)\n",
    "        if confidence > args.confidence:\n",
    "            # compute the (x, y)-coordinates of the bounding box for\n",
    "            # the face\n",
    "            box = detections[0, 0, i, 3:7] * np.array([w, h, w, h])\n",
    "            (startX, startY, endX, endY) = box.astype(\"int\")\n",
    "            # extract the face ROI and grab the ROI dimensions\n",
    "            face = image[startY:endY, startX:endX]\n",
    "#             cv2.imshow(name, face)\n",
    "#             cv2.waitKey(0)\n",
    "#             cv2.destroyAllWindows()\n",
    "            (fH, fW) = face.shape[:2]\n",
    "            # ensure the face width and height are sufficiently large\n",
    "            if fW < 20 or fH < 20:\n",
    "                continue  \n",
    "            # construct a blob for the face ROI, then pass the blob\n",
    "            # through our face embedding model to obtain the 128-d\n",
    "            # quantification of the face\n",
    "            faceBlob = cv2.dnn.blobFromImage(face, 1.0 / 255,\n",
    "                (96, 96), (0, 0, 0), swapRB=True, crop=False)\n",
    "            embedder.setInput(faceBlob)\n",
    "            vec = embedder.forward()\n",
    "#             print(vec, vec.flatten())\n",
    "            # add the name of the person + corresponding face\n",
    "            # embedding to their respective lists\n",
    "            knownNames.append(name)\n",
    "            knownEmbeddings.append(vec.flatten())\n",
    "#             print(total, knownEmbeddings)\n",
    "            total += 1"
   ]
  },
  {
   "cell_type": "code",
   "execution_count": 6,
   "id": "ec8e2579",
   "metadata": {},
   "outputs": [
    {
     "name": "stdout",
     "output_type": "stream",
     "text": [
      "[INFO] serializing 19 encodings...\n"
     ]
    }
   ],
   "source": [
    "# dump the facial embeddings + names to disk\n",
    "print(\"[INFO] serializing {} encodings...\".format(total))\n",
    "data = {\"embeddings\": knownEmbeddings, \"names\": knownNames}\n",
    "f = open(args.embeddings, \"wb\")\n",
    "f.write(pickle.dumps(data))\n",
    "f.close()"
   ]
  }
 ],
 "metadata": {
  "kernelspec": {
   "display_name": "Python 3 (ipykernel)",
   "language": "python",
   "name": "python3"
  },
  "language_info": {
   "codemirror_mode": {
    "name": "ipython",
    "version": 3
   },
   "file_extension": ".py",
   "mimetype": "text/x-python",
   "name": "python",
   "nbconvert_exporter": "python",
   "pygments_lexer": "ipython3",
   "version": "3.8.10"
  }
 },
 "nbformat": 4,
 "nbformat_minor": 5
}
