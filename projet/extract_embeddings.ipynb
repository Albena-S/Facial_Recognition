{
 "cells": [
  {
   "cell_type": "code",
   "execution_count": 29,
   "id": "02a14a34",
   "metadata": {},
   "outputs": [
    {
     "name": "stdout",
     "output_type": "stream",
     "text": [
      "Defaulting to user installation because normal site-packages is not writeable\n",
      "\u001b[31mERROR: Could not find a version that satisfies the requirement jupyter_argparser (from versions: none)\u001b[0m\u001b[31m\n",
      "\u001b[0m\u001b[31mERROR: No matching distribution found for jupyter_argparser\u001b[0m\u001b[31m\n",
      "\u001b[0m\u001b[33mWARNING: You are using pip version 22.0.3; however, version 22.0.4 is available.\n",
      "You should consider upgrading via the '/usr/bin/python3 -m pip install --upgrade pip' command.\u001b[0m\u001b[33m\n",
      "\u001b[0mNote: you may need to restart the kernel to use updated packages.\n"
     ]
    }
   ],
   "source": [
    "pip install jupyter_argparser"
   ]
  },
  {
   "cell_type": "code",
   "execution_count": 27,
   "id": "bfceba32",
   "metadata": {},
   "outputs": [
    {
     "data": {
      "text/plain": [
       "Namespace(verbose=False, verbose_1=False)"
      ]
     },
     "execution_count": 27,
     "metadata": {},
     "output_type": "execute_result"
    }
   ],
   "source": [
    "# import the necessary packages\n",
    "from imutils import paths\n",
    "import numpy as np\n",
    "import argparse\n",
    "import imutils\n",
    "import pickle\n",
    "import cv2\n",
    "import os\n",
    "\n",
    "# construct the argument parser and parse the arguments\n",
    "ap = argparse.ArgumentParser()\n",
    "ap.add_argument(\"-i\", \"--dataset\", required=True,\n",
    "\thelp=\"path to input directory of faces + images\")\n",
    "ap.add_argument(\"-e\", \"--embeddings\", required=True,\n",
    "\thelp=\"path to output serialized db of facial embeddings\")\n",
    "ap.add_argument(\"-d\", \"--detector\", required=True,\n",
    "\thelp=\"path to OpenCV's deep learning face detector\")\n",
    "ap.add_argument(\"-m\", \"--embedding-model\", required=True,\n",
    "\thelp=\"path to OpenCV's deep learning face embedding model\")\n",
    "ap.add_argument(\"-c\", \"--confidence\", type=float, default=0.5,\n",
    "\thelp=\"minimum probability to filter weak detections\")\n",
    "# args = vars(ap.parse_args())\n",
    "# args = parser.parse_args(['-i', '/'])\n",
    "args = argparse.Namespace(verbose=False, verbose_1=False)\n",
    "args"
   ]
  },
  {
   "cell_type": "code",
   "execution_count": 17,
   "id": "677ee483",
   "metadata": {},
   "outputs": [
    {
     "name": "stderr",
     "output_type": "stream",
     "text": [
      "usage: ipykernel_launcher.py [-h]\n",
      "ipykernel_launcher.py: error: unrecognized arguments: -f /home/albena/.local/share/jupyter/runtime/kernel-199b7fd6-a3dd-45ec-998c-41fc2f37c433.json\n"
     ]
    },
    {
     "ename": "SystemExit",
     "evalue": "2",
     "output_type": "error",
     "traceback": [
      "An exception has occurred, use %tb to see the full traceback.\n",
      "\u001b[0;31mSystemExit\u001b[0m\u001b[0;31m:\u001b[0m 2\n"
     ]
    }
   ],
   "source": [
    "import argparse\n",
    "parser = argparse.ArgumentParser()\n",
    "parser.parse_args()"
   ]
  }
 ],
 "metadata": {
  "kernelspec": {
   "display_name": "Python 3 (ipykernel)",
   "language": "python",
   "name": "python3"
  },
  "language_info": {
   "codemirror_mode": {
    "name": "ipython",
    "version": 3
   },
   "file_extension": ".py",
   "mimetype": "text/x-python",
   "name": "python",
   "nbconvert_exporter": "python",
   "pygments_lexer": "ipython3",
   "version": "3.8.10"
  }
 },
 "nbformat": 4,
 "nbformat_minor": 5
}
