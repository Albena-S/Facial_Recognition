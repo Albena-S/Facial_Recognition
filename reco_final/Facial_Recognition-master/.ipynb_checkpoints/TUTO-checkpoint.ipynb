{
 "cells": [
  {
   "cell_type": "code",
   "execution_count": 1,
   "metadata": {},
   "outputs": [],
   "source": [
    "import cv2\n",
    "import numpy as np\n",
    "from matplotlib import pyplot as plt"
   ]
  },
  {
   "cell_type": "code",
   "execution_count": null,
   "metadata": {},
   "outputs": [],
   "source": [
    "\n",
    "\n",
    "img = cv2.imread('watch.jpg',cv2.IMREAD_GRAYSCALE)\n",
    "cv2.imshow('image',img)\n",
    "cv2.waitKey(0)\n",
    "cv2.destroyAllWindows()"
   ]
  },
  {
   "cell_type": "code",
   "execution_count": null,
   "metadata": {},
   "outputs": [],
   "source": [
    "img = cv2.imread('watch.jpg',cv2.IMREAD_GRAYSCALE)\n",
    "\n",
    "plt.imshow(img, cmap = 'gray', interpolation = 'bicubic')\n",
    "plt.xticks([]), plt.yticks([])  # to hide tick values on X and Y axis\n",
    "plt.plot([200,300,400],[100,200,300],'c', linewidth=5)\n",
    "plt.show()"
   ]
  },
  {
   "cell_type": "code",
   "execution_count": null,
   "metadata": {},
   "outputs": [],
   "source": [
    "cv2.imwrite('watchgray.png',img)"
   ]
  },
  {
   "cell_type": "code",
   "execution_count": null,
   "metadata": {},
   "outputs": [],
   "source": [
    "cap = cv2.VideoCapture(0)\n",
    "print(cap.isOpened())\n",
    "print(cap.get(3))\n",
    "while(True):\n",
    "    ret, frame = cap.read()\n",
    "    gray = cv2.cvtColor(frame, cv2.COLOR_BGR2GRAY)\n",
    " \n",
    "    cv2.imshow('frame',gray)\n",
    "    if cv2.waitKey(1) & 0xFF == ord('q'):\n",
    "        break\n",
    "\n",
    "cap.release()\n",
    "cv2.destroyAllWindows()"
   ]
  },
  {
   "cell_type": "code",
   "execution_count": null,
   "metadata": {},
   "outputs": [],
   "source": [
    "img = cv2.imread('watch.jpg',cv2.IMREAD_COLOR)\n",
    "cv2.rectangle(img,(15,25),(200,150),(0,0,255),15)\n",
    "font = cv2.FONT_HERSHEY_SIMPLEX\n",
    "cv2.putText(img,'watch',(0,130), font, 1, (0,255,255), 2, cv2.LINE_AA)\n",
    "cv2.imshow('image',img)\n",
    "cv2.waitKey(0)\n",
    "cv2.destroyAllWindows()"
   ]
  },
  {
   "cell_type": "code",
   "execution_count": null,
   "metadata": {},
   "outputs": [],
   "source": [
    "img = cv2.imread('watch.jpg',cv2.IMREAD_COLOR)\n",
    "px = img[55,55]\n",
    "img[55,55] = [255,255,255]\n",
    "px = img[55,55]\n",
    "print(px)\n",
    "img[100:150,100:150] = [255,255,255]\n",
    "print(img.shape)\n",
    "print(img.size)\n",
    "print(img.dtype)\n",
    "watch_face = img[37:111,107:194]\n",
    "img[0:74,0:87] = watch_face\n",
    "cv2.imshow('image',img)\n",
    "cv2.waitKey(0)\n",
    "cv2.destroyAllWindows()"
   ]
  },
  {
   "cell_type": "code",
   "execution_count": null,
   "metadata": {
    "scrolled": true
   },
   "outputs": [],
   "source": [
    "# 500 x 250\n",
    "img1 = cv2.imread('1.jpg')\n",
    "img2 = cv2.imread('2.jpeg')\n",
    "\n",
    "add = cv2.add(img1,img2)\n",
    "\n",
    "cv2.imshow('add',add)\n",
    "cv2.waitKey(0)\n",
    "cv2.destroyAllWindows()"
   ]
  },
  {
   "cell_type": "code",
   "execution_count": null,
   "metadata": {},
   "outputs": [],
   "source": [
    "img1 = cv2.imread('1.jpg')\n",
    "img2 = cv2.imread('2.jpeg')\n",
    "weighted = cv2.addWeighted(img1, 0.2, img2, 0.8, 0)\n",
    "cv2.imshow('weighted',weighted)\n",
    "cv2.waitKey(0)\n",
    "cv2.destroyAllWindows()"
   ]
  },
  {
   "cell_type": "code",
   "execution_count": null,
   "metadata": {},
   "outputs": [],
   "source": [
    "import cv2\n",
    "import numpy as np\n",
    "\n",
    "# Load two images\n",
    "img1 = cv2.imread('3D-Matplotlib.png')\n",
    "img2 = cv2.imread('mainlogo.png')\n",
    "\n",
    "# I want to put logo on top-left corner, So I create a ROI\n",
    "rows,cols,channels = img2.shape\n",
    "roi = img1[0:rows, 0:cols ]\n",
    "\n",
    "# Now create a mask of logo and create its inverse mask\n",
    "img2gray = cv2.cvtColor(img2,cv2.COLOR_BGR2GRAY)\n",
    "\n",
    "# add a threshold\n",
    "ret, mask = cv2.threshold(img2gray, 220, 255, cv2.THRESH_BINARY_INV)\n",
    "\n",
    "mask_inv = cv2.bitwise_not(mask)\n",
    "\n",
    "# Now black-out the area of logo in ROI\n",
    "img1_bg = cv2.bitwise_and(roi,roi,mask = mask_inv)\n",
    "\n",
    "# Take only region of logo from logo image.\n",
    "img2_fg = cv2.bitwise_and(img2,img2,mask = mask)\n",
    "\n",
    "dst = cv2.add(img1_bg,img2_fg)\n",
    "img1[0:rows, 0:cols ] = dst\n",
    "\n",
    "cv2.imshow('res',img1)\n",
    "cv2.waitKey(0)\n",
    "cv2.destroyAllWindows()"
   ]
  },
  {
   "cell_type": "code",
   "execution_count": null,
   "metadata": {},
   "outputs": [],
   "source": [
    "grayscaled = cv2.cvtColor(img,cv2.COLOR_BGR2GRAY)\n",
    "retval, threshold = cv2.threshold(grayscaled, 10, 255, cv2.THRESH_BINARY)\n",
    "cv2.imshow('original',img)\n",
    "cv2.imshow('threshold',threshold)\n",
    "cv2.waitKey(0)\n",
    "cv2.destroyAllWindows()"
   ]
  },
  {
   "cell_type": "code",
   "execution_count": null,
   "metadata": {},
   "outputs": [],
   "source": [
    "th = cv2.adaptiveThreshold(grayscaled, 255, cv2.ADAPTIVE_THRESH_GAUSSIAN_C, cv2.THRESH_BINARY, 115, 1)\n",
    "cv2.imshow('original',img)\n",
    "cv2.imshow('Adaptive threshold',th)\n",
    "cv2.waitKey(0)\n",
    "cv2.destroyAllWindows()"
   ]
  },
  {
   "cell_type": "code",
   "execution_count": null,
   "metadata": {},
   "outputs": [],
   "source": [
    "retval2,threshold2 = cv2.threshold(grayscaled,125,255,cv2.THRESH_BINARY+cv2.THRESH_OTSU)\n",
    "cv2.imshow('original',img)\n",
    "cv2.imshow('Otsu threshold',threshold2)\n",
    "cv2.waitKey(0)\n",
    "cv2.destroyAllWindows()"
   ]
  },
  {
   "cell_type": "code",
   "execution_count": null,
   "metadata": {},
   "outputs": [],
   "source": [
    "img = cv2.imread('ben.jpg')\n",
    "grayscaled = cv2.cvtColor(img,cv2.COLOR_BGR2GRAY)\n",
    "th = cv2.adaptiveThreshold(grayscaled, 255, cv2.ADAPTIVE_THRESH_GAUSSIAN_C, cv2.THRESH_BINARY, 115, 1)\n",
    "retval2,threshold2 = cv2.threshold(grayscaled,125,255,cv2.THRESH_BINARY+cv2.THRESH_OTSU)\n",
    "cv2.imshow('original',img)\n",
    "cv2.imshow('Adaptive threshold',th)\n",
    "cv2.imshow('Otsu threshold',threshold2)\n",
    "cv2.waitKey(0)\n",
    "cv2.destroyAllWindows()"
   ]
  },
  {
   "cell_type": "code",
   "execution_count": null,
   "metadata": {},
   "outputs": [],
   "source": [
    "img = cv2.imread('ben.jpg')\n",
    "\n",
    "hsv = cv2.cvtColor(img, cv2.COLOR_BGR2HSV)\n",
    "    \n",
    "lower_red = np.array([80,120,160])\n",
    "upper_red = np.array([207,200,230])\n",
    "    \n",
    "mask = cv2.inRange(hsv, lower_red, upper_red)\n",
    "res = cv2.bitwise_and(img,img, mask= mask)\n",
    "\n",
    "cv2.imshow('img', img)\n",
    "cv2.imshow('mask',mask)\n",
    "cv2.imshow('res',res)\n",
    "\n",
    "\n",
    "cv2.waitKey(0)\n",
    "cv2.destroyAllWindows()"
   ]
  },
  {
   "cell_type": "code",
   "execution_count": null,
   "metadata": {},
   "outputs": [],
   "source": [
    "img = cv2.imread('test.png')\n",
    "\n",
    "hsv = cv2.cvtColor(img, cv2.COLOR_BGR2HSV)\n",
    "    \n",
    "lower_red = np.array([30,150,50])\n",
    "upper_red = np.array([255,255,180])\n",
    "    \n",
    "mask = cv2.inRange(hsv, lower_red, upper_red)\n",
    "res = cv2.bitwise_and(img,img, mask= mask)\n",
    "\n",
    "kernel = np.ones((15,15),np.float32)/225\n",
    "smoothed = cv2.filter2D(res,-1,kernel)\n",
    "\n",
    "cv2.imshow('img', img)\n",
    "cv2.imshow('mask',smoothed)\n",
    "\n",
    "blur = cv2.GaussianBlur(res,(15,15),0)\n",
    "cv2.imshow('Gaussian Blurring',blur)\n",
    "\n",
    "median = cv2.medianBlur(res,15)\n",
    "cv2.imshow('Median Blur',median)\n",
    "\n",
    "bilateral = cv2.bilateralFilter(res,15,75,75)\n",
    "cv2.imshow('bilateral Blur',bilateral)\n",
    "\n",
    "cv2.waitKey(0)\n",
    "cv2.destroyAllWindows()"
   ]
  },
  {
   "cell_type": "markdown",
   "metadata": {},
   "source": [
    "# TESTS AVEC CAMERA"
   ]
  },
  {
   "cell_type": "code",
   "execution_count": null,
   "metadata": {},
   "outputs": [],
   "source": [
    "cap = cv2.VideoCapture(0)\n",
    "\n",
    "while(1):\n",
    "\n",
    "    _, frame = cap.read()\n",
    "    hsv = cv2.cvtColor(frame, cv2.COLOR_BGR2HSV)\n",
    "    \n",
    "    lower_red = np.array([30,150,50])\n",
    "    upper_red = np.array([255,255,180])\n",
    "    \n",
    "    mask = cv2.inRange(hsv, lower_red, upper_red)\n",
    "    res = cv2.bitwise_and(frame,frame, mask= mask)\n",
    "\n",
    "    kernel = np.ones((5,5),np.uint8)\n",
    "    \n",
    "    opening = cv2.morphologyEx(mask, cv2.MORPH_OPEN, kernel)\n",
    "    closing = cv2.morphologyEx(mask, cv2.MORPH_CLOSE, kernel)\n",
    "\n",
    "    cv2.imshow('Original',frame)\n",
    "    cv2.imshow('Mask',mask)\n",
    "    cv2.imshow('Opening',opening)\n",
    "    cv2.imshow('Closing',closing)\n",
    "\n",
    "    if cv2.waitKey(1) & 0xFF == ord('q'):\n",
    "        break\n",
    "\n",
    "cv2.destroyAllWindows()\n",
    "cap.release()"
   ]
  },
  {
   "cell_type": "code",
   "execution_count": null,
   "metadata": {},
   "outputs": [],
   "source": [
    "cap = cv2.VideoCapture(0)\n",
    "\n",
    "while(1):\n",
    "\n",
    "    # Take each frame\n",
    "    _, frame = cap.read()\n",
    "    hsv = cv2.cvtColor(frame, cv2.COLOR_BGR2HSV)\n",
    "    \n",
    "    lower_red = np.array([30,150,50])\n",
    "    upper_red = np.array([255,255,180])\n",
    "    \n",
    "    mask = cv2.inRange(hsv, lower_red, upper_red)\n",
    "    res = cv2.bitwise_and(frame,frame, mask= mask)\n",
    "\n",
    "    laplacian = cv2.Laplacian(frame,cv2.CV_64F)\n",
    "    sobelx = cv2.Sobel(frame,cv2.CV_64F,1,1,ksize=5)\n",
    "    sobely = cv2.Sobel(frame,cv2.CV_64F,0,1,ksize=5)\n",
    "\n",
    "    cv2.imshow('Original',frame)\n",
    "    cv2.imshow('Mask',mask)\n",
    "    cv2.imshow('laplacian',laplacian)\n",
    "    cv2.imshow('sobelx',sobelx)\n",
    "    cv2.imshow('sobely',sobely)\n",
    "\n",
    "    if cv2.waitKey(1) & 0xFF == ord('q'):\n",
    "        break\n",
    "\n",
    "cv2.destroyAllWindows()\n",
    "cap.release()"
   ]
  },
  {
   "cell_type": "code",
   "execution_count": null,
   "metadata": {},
   "outputs": [],
   "source": [
    "\n",
    "cap = cv2.VideoCapture(0)\n",
    "\n",
    "while(1):\n",
    "\n",
    "    _, frame = cap.read()\n",
    "    hsv = cv2.cvtColor(frame, cv2.COLOR_BGR2HSV)\n",
    "    \n",
    "    lower_red = np.array([30,150,50])\n",
    "    upper_red = np.array([255,255,180])\n",
    "    \n",
    "    mask = cv2.inRange(hsv, lower_red, upper_red)\n",
    "    res = cv2.bitwise_and(frame,frame, mask= mask)\n",
    "\n",
    "    cv2.imshow('Original',frame)\n",
    "    edges = cv2.Canny(frame,100,200)\n",
    "    cv2.imshow('Edges',edges)\n",
    "\n",
    "    if cv2.waitKey(1) & 0xFF == ord('q'):\n",
    "        break\n",
    "\n",
    "\n",
    "cv2.destroyAllWindows()\n",
    "cap.release()"
   ]
  },
  {
   "cell_type": "code",
   "execution_count": null,
   "metadata": {},
   "outputs": [],
   "source": [
    "img = cv2.imread('ben.jpg')\n",
    "\n",
    "hsv = cv2.cvtColor(img, cv2.COLOR_BGR2HSV)\n",
    "    \n",
    "lower_red = np.array([30,150,50])\n",
    "upper_red = np.array([255,255,180])\n",
    "    \n",
    "mask = cv2.inRange(hsv, lower_red, upper_red)\n",
    "res = cv2.bitwise_and(img,img, mask= mask)\n",
    "\n",
    "cv2.imshow('Original',img)\n",
    "edges = cv2.Canny(img,100,200)\n",
    "cv2.imshow('Edges',edges)\n",
    "\n",
    "\n",
    "cv2.waitKey(0)\n",
    "cv2.destroyAllWindows()"
   ]
  },
  {
   "cell_type": "markdown",
   "metadata": {},
   "source": [
    "# Template matching"
   ]
  },
  {
   "cell_type": "code",
   "execution_count": null,
   "metadata": {},
   "outputs": [],
   "source": [
    "\n",
    "img_rgb = cv2.imread('opencv-template-matching-python-tutorial.jpg')\n",
    "img_gray = cv2.cvtColor(img_rgb, cv2.COLOR_BGR2GRAY)\n",
    "\n",
    "template = cv2.imread('opencv-template-for-matching.jpg',0)\n",
    "w, h = template.shape[::-1]\n",
    "\n",
    "res = cv2.matchTemplate(img_gray,template,cv2.TM_CCOEFF_NORMED)\n",
    "threshold = 0.8\n",
    "loc = np.where( res >= threshold)\n",
    "\n",
    "for pt in zip(*loc[::-1]):\n",
    "    cv2.rectangle(img_rgb, pt, (pt[0] + w, pt[1] + h), (0,255,255), 2)\n",
    "\n",
    "cv2.imshow('Detected',img_rgb)\n",
    "cv2.waitKey(0)\n",
    "cv2.destroyAllWindows()"
   ]
  },
  {
   "cell_type": "code",
   "execution_count": null,
   "metadata": {},
   "outputs": [],
   "source": [
    "\n",
    "img_rgb = cv2.imread('ben.jpg')\n",
    "img_gray = cv2.cvtColor(img_rgb, cv2.COLOR_BGR2GRAY)\n",
    "\n",
    "template = cv2.imread('eyes.png',0)\n",
    "w, h = template.shape[::-1]\n",
    "\n",
    "res = cv2.matchTemplate(img_gray,template,cv2.TM_CCOEFF_NORMED)\n",
    "threshold = 0.7\n",
    "loc = np.where( res >= threshold)\n",
    "\n",
    "for pt in zip(*loc[::-1]):\n",
    "    cv2.rectangle(img_rgb, pt, (pt[0] + w, pt[1] + h), (0,255,255), 2)\n",
    "\n",
    "cv2.imshow('Detected',img_rgb)\n",
    "cv2.waitKey(0)\n",
    "cv2.destroyAllWindows()"
   ]
  },
  {
   "cell_type": "markdown",
   "metadata": {},
   "source": [
    "# Foreground Extraction"
   ]
  },
  {
   "cell_type": "code",
   "execution_count": null,
   "metadata": {},
   "outputs": [],
   "source": [
    "img = cv2.imread('opencv-python-foreground-extraction-tutorial.jpg')\n",
    "mask = np.zeros(img.shape[:2],np.uint8)\n",
    "\n",
    "bgdModel = np.zeros((1,65),np.float64)\n",
    "fgdModel = np.zeros((1,65),np.float64)\n",
    "\n",
    "rect = (161,79,150,150)\n",
    "\n",
    "cv2.grabCut(img,mask,rect,bgdModel,fgdModel,5,cv2.GC_INIT_WITH_RECT)\n",
    "mask2 = np.where((mask==2)|(mask==0),0,1).astype('uint8')\n",
    "img = img*mask2[:,:,np.newaxis]\n",
    "\n",
    "plt.imshow(img)\n",
    "plt.colorbar()\n",
    "plt.show()"
   ]
  },
  {
   "cell_type": "code",
   "execution_count": null,
   "metadata": {},
   "outputs": [],
   "source": [
    "img = cv2.imread('ben.jpg')\n",
    "mask = np.zeros(img.shape[:2],np.uint8)\n",
    "\n",
    "bgdModel = np.zeros((1,65),np.float64)\n",
    "fgdModel = np.zeros((1,65),np.float64)\n",
    "\n",
    "rect = (80,60,200,300)\n",
    "\n",
    "cv2.grabCut(img,mask,rect,bgdModel,fgdModel,5,cv2.GC_INIT_WITH_RECT)\n",
    "mask2 = np.where((mask==2)|(mask==0),0,1).astype('uint8')\n",
    "img = img*mask2[:,:,np.newaxis]\n",
    "\n",
    "plt.imshow(img)\n",
    "plt.colorbar()\n",
    "plt.show()"
   ]
  },
  {
   "cell_type": "markdown",
   "metadata": {},
   "source": [
    "# Corner Detection"
   ]
  },
  {
   "cell_type": "code",
   "execution_count": null,
   "metadata": {},
   "outputs": [],
   "source": [
    "img = cv2.imread('opencv-corner-detection-sample.jpg')\n",
    "gray = cv2.cvtColor(img,cv2.COLOR_BGR2GRAY)\n",
    "gray = np.float32(gray)\n",
    "\n",
    "corners = cv2.goodFeaturesToTrack(gray, 100, 0.01, 10)\n",
    "corners = np.int0(corners)\n",
    "\n",
    "for corner in corners:\n",
    "    x,y = corner.ravel()\n",
    "    cv2.circle(img,(x,y),3,255,-1)\n",
    "    \n",
    "cv2.imshow('Corner',img)\n",
    "cv2.waitKey(0)\n",
    "cv2.destroyAllWindows()"
   ]
  },
  {
   "cell_type": "markdown",
   "metadata": {},
   "source": [
    "# Homography"
   ]
  },
  {
   "cell_type": "code",
   "execution_count": 2,
   "metadata": {},
   "outputs": [
    {
     "name": "stdout",
     "output_type": "stream",
     "text": [
      "(<KeyPoint 0x7fc9c7837b40>, <KeyPoint 0x7fc9c7837f90>, <KeyPoint 0x7fc9c7837ea0>, <KeyPoint 0x7fc9c7837f60>, <KeyPoint 0x7fc9c7837fc0>, <KeyPoint 0x7fc9c7837e40>, <KeyPoint 0x7fca0422b990>, <KeyPoint 0x7fca0422b030>, <KeyPoint 0x7fca0422b180>, <KeyPoint 0x7fca0422b090>, <KeyPoint 0x7fca04280300>, <KeyPoint 0x7fca04280390>, <KeyPoint 0x7fca04280150>, <KeyPoint 0x7fca042803f0>, <KeyPoint 0x7fca04280420>, <KeyPoint 0x7fca042801e0>, <KeyPoint 0x7fca042802a0>, <KeyPoint 0x7fca04280210>, <KeyPoint 0x7fca04280330>, <KeyPoint 0x7fca04280060>, <KeyPoint 0x7fc9c89efdb0>, <KeyPoint 0x7fc9c89efcc0>, <KeyPoint 0x7fc9c784f060>, <KeyPoint 0x7fc9c784f030>, <KeyPoint 0x7fc9c784f090>, <KeyPoint 0x7fc9c784f0c0>, <KeyPoint 0x7fc9c784f0f0>, <KeyPoint 0x7fc9c784f120>, <KeyPoint 0x7fc9c784f150>, <KeyPoint 0x7fc9c784f180>, <KeyPoint 0x7fc9c784f1b0>, <KeyPoint 0x7fc9c784f1e0>, <KeyPoint 0x7fc9c784f210>, <KeyPoint 0x7fc9c784f270>, <KeyPoint 0x7fc9c784f2a0>, <KeyPoint 0x7fc9c784f2d0>, <KeyPoint 0x7fc9c784f330>, <KeyPoint 0x7fc9c784f360>, <KeyPoint 0x7fc9c784f390>, <KeyPoint 0x7fc9c784f3c0>, <KeyPoint 0x7fc9c784f420>, <KeyPoint 0x7fc9c784f450>, <KeyPoint 0x7fc9c784f480>, <KeyPoint 0x7fc9c784f4b0>, <KeyPoint 0x7fc9c784f4e0>, <KeyPoint 0x7fc9c784f510>, <KeyPoint 0x7fc9c784f540>, <KeyPoint 0x7fc9c784f570>, <KeyPoint 0x7fc9c784f240>, <KeyPoint 0x7fc9c784f5a0>, <KeyPoint 0x7fc9c784f5d0>, <KeyPoint 0x7fc9c784f600>, <KeyPoint 0x7fc9c784f300>, <KeyPoint 0x7fc9c784f630>, <KeyPoint 0x7fc9c784f660>, <KeyPoint 0x7fc9c784f690>, <KeyPoint 0x7fc9c784f6c0>, <KeyPoint 0x7fc9c784f3f0>, <KeyPoint 0x7fc9c784f6f0>, <KeyPoint 0x7fc9c784f720>, <KeyPoint 0x7fc9c784f750>, <KeyPoint 0x7fc9c784f780>, <KeyPoint 0x7fc9c784f7b0>, <KeyPoint 0x7fc9c784f7e0>, <KeyPoint 0x7fc9c784f810>, <KeyPoint 0x7fc9c784f840>, <KeyPoint 0x7fc9c784f870>, <KeyPoint 0x7fc9c784f8a0>, <KeyPoint 0x7fc9c784f8d0>, <KeyPoint 0x7fc9c784f900>, <KeyPoint 0x7fc9c784f930>, <KeyPoint 0x7fc9c784f960>, <KeyPoint 0x7fc9c784f990>, <KeyPoint 0x7fc9c784f9c0>, <KeyPoint 0x7fc9c784f9f0>, <KeyPoint 0x7fc9c784fa20>, <KeyPoint 0x7fc9c784fa50>, <KeyPoint 0x7fc9c784fa80>, <KeyPoint 0x7fc9c784fab0>, <KeyPoint 0x7fc9c784fae0>, <KeyPoint 0x7fc9c784fb10>, <KeyPoint 0x7fc9c784fb40>, <KeyPoint 0x7fc9c784fb70>, <KeyPoint 0x7fc9c784fba0>, <KeyPoint 0x7fc9c784fbd0>, <KeyPoint 0x7fc9c784fc00>, <KeyPoint 0x7fc9c784fc30>, <KeyPoint 0x7fc9c784fc60>, <KeyPoint 0x7fc9c784fc90>, <KeyPoint 0x7fc9c784fcc0>, <KeyPoint 0x7fc9c784fcf0>, <KeyPoint 0x7fc9c784fd20>, <KeyPoint 0x7fc9c784fd50>, <KeyPoint 0x7fc9c784fd80>, <KeyPoint 0x7fc9c784fdb0>, <KeyPoint 0x7fc9c784fde0>, <KeyPoint 0x7fc9c784fe10>, <KeyPoint 0x7fc9c784fe40>, <KeyPoint 0x7fc9c784fe70>, <KeyPoint 0x7fc9c784fea0>, <KeyPoint 0x7fc9c784fed0>, <KeyPoint 0x7fc9c784ff00>, <KeyPoint 0x7fc9c784ff30>, <KeyPoint 0x7fc9c784ff60>, <KeyPoint 0x7fc9c784ff90>, <KeyPoint 0x7fc9c784ffc0>, <KeyPoint 0x7fc9c784e030>, <KeyPoint 0x7fc9c784e060>, <KeyPoint 0x7fc9c784e090>, <KeyPoint 0x7fc9c784e0c0>, <KeyPoint 0x7fc9c784e0f0>, <KeyPoint 0x7fc9c784e120>, <KeyPoint 0x7fc9c784e150>, <KeyPoint 0x7fc9c784e180>, <KeyPoint 0x7fc9c784e1b0>, <KeyPoint 0x7fc9c784e1e0>, <KeyPoint 0x7fc9c784e210>, <KeyPoint 0x7fc9c784e240>, <KeyPoint 0x7fc9c784e270>, <KeyPoint 0x7fc9c784e2a0>, <KeyPoint 0x7fc9c784e2d0>, <KeyPoint 0x7fc9c784e300>, <KeyPoint 0x7fc9c784e330>, <KeyPoint 0x7fc9c784e360>, <KeyPoint 0x7fc9c784e390>, <KeyPoint 0x7fc9c784e3c0>, <KeyPoint 0x7fc9c784e3f0>, <KeyPoint 0x7fc9c784e420>, <KeyPoint 0x7fc9c784e450>, <KeyPoint 0x7fc9c784e480>, <KeyPoint 0x7fc9c784e4b0>, <KeyPoint 0x7fc9c784e4e0>, <KeyPoint 0x7fc9c784e510>, <KeyPoint 0x7fc9c784e540>, <KeyPoint 0x7fc9c784e570>, <KeyPoint 0x7fc9c784e5a0>, <KeyPoint 0x7fc9c784e5d0>, <KeyPoint 0x7fc9c784e600>, <KeyPoint 0x7fc9c784e630>, <KeyPoint 0x7fc9c784e660>, <KeyPoint 0x7fc9c784e690>, <KeyPoint 0x7fc9c784e6c0>, <KeyPoint 0x7fc9c784e6f0>, <KeyPoint 0x7fc9c784e720>, <KeyPoint 0x7fc9c784e750>, <KeyPoint 0x7fc9c784e780>, <KeyPoint 0x7fc9c784e7b0>, <KeyPoint 0x7fc9c784e7e0>, <KeyPoint 0x7fc9c784e810>, <KeyPoint 0x7fc9c784e840>, <KeyPoint 0x7fc9c784e870>, <KeyPoint 0x7fc9c784e8a0>, <KeyPoint 0x7fc9c784e8d0>, <KeyPoint 0x7fc9c784e900>, <KeyPoint 0x7fc9c784e930>, <KeyPoint 0x7fc9c784e960>, <KeyPoint 0x7fc9c784e990>, <KeyPoint 0x7fc9c784e9c0>, <KeyPoint 0x7fc9c784e9f0>, <KeyPoint 0x7fc9c784ea20>, <KeyPoint 0x7fc9c784ea50>, <KeyPoint 0x7fc9c784ea80>, <KeyPoint 0x7fc9c784eab0>, <KeyPoint 0x7fc9c784eae0>, <KeyPoint 0x7fc9c784eb10>, <KeyPoint 0x7fc9c784eb40>, <KeyPoint 0x7fc9c784eb70>, <KeyPoint 0x7fc9c784eba0>, <KeyPoint 0x7fc9c784ebd0>, <KeyPoint 0x7fc9c784ec00>, <KeyPoint 0x7fc9c784ec30>, <KeyPoint 0x7fc9c784ec60>, <KeyPoint 0x7fc9c784ec90>, <KeyPoint 0x7fc9c784ecc0>, <KeyPoint 0x7fc9c784ecf0>, <KeyPoint 0x7fc9c784ed20>, <KeyPoint 0x7fc9c784ed50>, <KeyPoint 0x7fc9c784ed80>, <KeyPoint 0x7fc9c784edb0>, <KeyPoint 0x7fc9c784ede0>, <KeyPoint 0x7fc9c784ee10>, <KeyPoint 0x7fc9c784ee40>, <KeyPoint 0x7fc9c784ee70>, <KeyPoint 0x7fc9c784eea0>, <KeyPoint 0x7fc9c784eed0>, <KeyPoint 0x7fc9c784ef00>, <KeyPoint 0x7fc9c784ef30>, <KeyPoint 0x7fc9c784ef60>, <KeyPoint 0x7fc9c784ef90>, <KeyPoint 0x7fc9c784efc0>, <KeyPoint 0x7fc9c7844030>, <KeyPoint 0x7fc9c7844060>, <KeyPoint 0x7fc9c7844090>, <KeyPoint 0x7fc9c78440c0>, <KeyPoint 0x7fc9c78440f0>, <KeyPoint 0x7fc9c7844120>, <KeyPoint 0x7fc9c7844150>, <KeyPoint 0x7fc9c7844180>, <KeyPoint 0x7fc9c78441b0>, <KeyPoint 0x7fc9c78441e0>, <KeyPoint 0x7fc9c7844210>, <KeyPoint 0x7fc9c7844240>, <KeyPoint 0x7fc9c7844270>, <KeyPoint 0x7fc9c78442a0>, <KeyPoint 0x7fc9c78442d0>, <KeyPoint 0x7fc9c7844300>, <KeyPoint 0x7fc9c7844330>, <KeyPoint 0x7fc9c7844360>, <KeyPoint 0x7fc9c7844390>, <KeyPoint 0x7fc9c78443c0>, <KeyPoint 0x7fc9c78443f0>, <KeyPoint 0x7fc9c7844420>, <KeyPoint 0x7fc9c7844450>, <KeyPoint 0x7fc9c7844480>, <KeyPoint 0x7fc9c78444b0>, <KeyPoint 0x7fc9c78444e0>, <KeyPoint 0x7fc9c7844510>, <KeyPoint 0x7fc9c7844540>, <KeyPoint 0x7fc9c78445a0>, <KeyPoint 0x7fc9c7844600>, <KeyPoint 0x7fc9c7844630>, <KeyPoint 0x7fc9c7844660>, <KeyPoint 0x7fc9c7844690>, <KeyPoint 0x7fc9c78446c0>, <KeyPoint 0x7fc9c78446f0>, <KeyPoint 0x7fc9c7844720>, <KeyPoint 0x7fc9c7844750>, <KeyPoint 0x7fc9c7844780>, <KeyPoint 0x7fc9c78447b0>, <KeyPoint 0x7fc9c78447e0>, <KeyPoint 0x7fc9c7844810>, <KeyPoint 0x7fc9c7844840>, <KeyPoint 0x7fc9c7844870>, <KeyPoint 0x7fc9c78448a0>, <KeyPoint 0x7fc9c78448d0>, <KeyPoint 0x7fc9c78445d0>, <KeyPoint 0x7fc9c7844570>, <KeyPoint 0x7fc9c7844900>, <KeyPoint 0x7fc9c7844930>, <KeyPoint 0x7fc9c7844960>, <KeyPoint 0x7fc9c7844990>, <KeyPoint 0x7fc9c78449c0>, <KeyPoint 0x7fc9c78449f0>, <KeyPoint 0x7fc9c7844a20>, <KeyPoint 0x7fc9c7844a50>, <KeyPoint 0x7fc9c7844a80>, <KeyPoint 0x7fc9c7844ab0>, <KeyPoint 0x7fc9c7844ae0>, <KeyPoint 0x7fc9c7844b10>, <KeyPoint 0x7fc9c7844b40>, <KeyPoint 0x7fc9c7844b70>, <KeyPoint 0x7fc9c7844ba0>, <KeyPoint 0x7fc9c7844c00>, <KeyPoint 0x7fc9c7844c60>, <KeyPoint 0x7fc9c7844c90>, <KeyPoint 0x7fc9c7844cc0>, <KeyPoint 0x7fc9c7844cf0>, <KeyPoint 0x7fc9c7844d20>, <KeyPoint 0x7fc9c7844d50>, <KeyPoint 0x7fc9c7844d80>, <KeyPoint 0x7fc9c7844db0>, <KeyPoint 0x7fc9c7844de0>, <KeyPoint 0x7fc9c7844e10>, <KeyPoint 0x7fc9c7844e40>, <KeyPoint 0x7fc9c7844e70>, <KeyPoint 0x7fc9c7844ea0>, <KeyPoint 0x7fc9c7844ed0>, <KeyPoint 0x7fc9c7844f00>, <KeyPoint 0x7fc9c7844f30>, <KeyPoint 0x7fc9c7844c30>, <KeyPoint 0x7fc9c7844f60>, <KeyPoint 0x7fc9c7844f90>, <KeyPoint 0x7fc9c7844fc0>, <KeyPoint 0x7fc9c7844bd0>, <KeyPoint 0x7fc9c784d030>, <KeyPoint 0x7fc9c784d060>, <KeyPoint 0x7fc9c784d090>, <KeyPoint 0x7fc9c784d0f0>, <KeyPoint 0x7fc9c784d120>, <KeyPoint 0x7fc9c784d1b0>, <KeyPoint 0x7fc9c784d210>, <KeyPoint 0x7fc9c784d240>, <KeyPoint 0x7fc9c784d2d0>, <KeyPoint 0x7fc9c784d300>, <KeyPoint 0x7fc9c784d360>, <KeyPoint 0x7fc9c784d390>, <KeyPoint 0x7fc9c784d420>, <KeyPoint 0x7fc9c784d450>, <KeyPoint 0x7fc9c784d180>, <KeyPoint 0x7fc9c784d480>, <KeyPoint 0x7fc9c784d4b0>, <KeyPoint 0x7fc9c784d4e0>, <KeyPoint 0x7fc9c784d510>, <KeyPoint 0x7fc9c784d540>, <KeyPoint 0x7fc9c784d2a0>, <KeyPoint 0x7fc9c784d570>, <KeyPoint 0x7fc9c784d5a0>, <KeyPoint 0x7fc9c784d5d0>, <KeyPoint 0x7fc9c784d600>, <KeyPoint 0x7fc9c784d630>, <KeyPoint 0x7fc9c784d660>, <KeyPoint 0x7fc9c784d3f0>, <KeyPoint 0x7fc9c784d690>, <KeyPoint 0x7fc9c784d6c0>, <KeyPoint 0x7fc9c784d6f0>, <KeyPoint 0x7fc9c784d150>, <KeyPoint 0x7fc9c784d720>, <KeyPoint 0x7fc9c784d750>, <KeyPoint 0x7fc9c784d780>, <KeyPoint 0x7fc9c784d7b0>, <KeyPoint 0x7fc9c784d270>, <KeyPoint 0x7fc9c784d7e0>, <KeyPoint 0x7fc9c784d810>, <KeyPoint 0x7fc9c784d840>, <KeyPoint 0x7fc9c784d870>, <KeyPoint 0x7fc9c784d8a0>, <KeyPoint 0x7fc9c784d3c0>, <KeyPoint 0x7fc9c784d8d0>, <KeyPoint 0x7fc9c784d900>, <KeyPoint 0x7fc9c784d930>, <KeyPoint 0x7fc9c784d960>, <KeyPoint 0x7fc9c784d9c0>, <KeyPoint 0x7fc9c784d9f0>, <KeyPoint 0x7fc9c784da20>, <KeyPoint 0x7fc9c784da50>, <KeyPoint 0x7fc9c784dab0>, <KeyPoint 0x7fc9c784dae0>, <KeyPoint 0x7fc9c784db10>, <KeyPoint 0x7fc9c784db40>, <KeyPoint 0x7fc9c784db70>, <KeyPoint 0x7fc9c784dbd0>, <KeyPoint 0x7fc9c784dc00>, <KeyPoint 0x7fc9c784dc30>, <KeyPoint 0x7fc9c784dc60>, <KeyPoint 0x7fc9c784dc90>, <KeyPoint 0x7fc9c784dcc0>, <KeyPoint 0x7fc9c784d990>, <KeyPoint 0x7fc9c784dcf0>, <KeyPoint 0x7fc9c784dd20>, <KeyPoint 0x7fc9c784dd50>, <KeyPoint 0x7fc9c784dd80>, <KeyPoint 0x7fc9c784da80>, <KeyPoint 0x7fc9c784ddb0>, <KeyPoint 0x7fc9c784dde0>, <KeyPoint 0x7fc9c784de10>, <KeyPoint 0x7fc9c784de40>, <KeyPoint 0x7fc9c784de70>, <KeyPoint 0x7fc9c784dba0>, <KeyPoint 0x7fc9c784dea0>, <KeyPoint 0x7fc9c784ded0>, <KeyPoint 0x7fc9c784df00>, <KeyPoint 0x7fc9c784df30>, <KeyPoint 0x7fc9c784df60>, <KeyPoint 0x7fc9c784df90>, <KeyPoint 0x7fc9c784d0c0>, <KeyPoint 0x7fc9c784dfc0>, <KeyPoint 0x7fc9c784d1e0>, <KeyPoint 0x7fc9c784d330>, <KeyPoint 0x7fc9c784c030>, <KeyPoint 0x7fc9c784c060>, <KeyPoint 0x7fc9c784c090>, <KeyPoint 0x7fc9c784c0c0>, <KeyPoint 0x7fc9c784c0f0>, <KeyPoint 0x7fc9c784c120>, <KeyPoint 0x7fc9c784c180>, <KeyPoint 0x7fc9c784c210>, <KeyPoint 0x7fc9c784c240>, <KeyPoint 0x7fc9c784c270>, <KeyPoint 0x7fc9c784c2a0>, <KeyPoint 0x7fc9c784c2d0>, <KeyPoint 0x7fc9c784c300>, <KeyPoint 0x7fc9c784c330>, <KeyPoint 0x7fc9c784c360>, <KeyPoint 0x7fc9c784c390>, <KeyPoint 0x7fc9c784c3c0>, <KeyPoint 0x7fc9c784c3f0>, <KeyPoint 0x7fc9c784c420>, <KeyPoint 0x7fc9c784c450>, <KeyPoint 0x7fc9c784c480>, <KeyPoint 0x7fc9c784c4b0>, <KeyPoint 0x7fc9c784c1e0>, <KeyPoint 0x7fc9c784c4e0>, <KeyPoint 0x7fc9c784c510>, <KeyPoint 0x7fc9c784c540>, <KeyPoint 0x7fc9c784c570>, <KeyPoint 0x7fc9c784c5a0>, <KeyPoint 0x7fc9c784c5d0>, <KeyPoint 0x7fc9c784c600>, <KeyPoint 0x7fc9c784c630>, <KeyPoint 0x7fc9c784c660>, <KeyPoint 0x7fc9c784c690>, <KeyPoint 0x7fc9c784c6c0>, <KeyPoint 0x7fc9c784c6f0>, <KeyPoint 0x7fc9c784c720>, <KeyPoint 0x7fc9c784c750>, <KeyPoint 0x7fc9c784c1b0>, <KeyPoint 0x7fc9c784c780>, <KeyPoint 0x7fc9c784c7b0>, <KeyPoint 0x7fc9c784c7e0>, <KeyPoint 0x7fc9c784c810>, <KeyPoint 0x7fc9c784c840>, <KeyPoint 0x7fc9c784c870>, <KeyPoint 0x7fc9c784c8a0>, <KeyPoint 0x7fc9c784c8d0>, <KeyPoint 0x7fc9c784c900>, <KeyPoint 0x7fc9c784c930>, <KeyPoint 0x7fc9c784c960>, <KeyPoint 0x7fc9c784c990>, <KeyPoint 0x7fc9c784c9c0>, <KeyPoint 0x7fc9c784ca20>, <KeyPoint 0x7fc9c784ca50>, <KeyPoint 0x7fc9c784ca80>, <KeyPoint 0x7fc9c784cab0>, <KeyPoint 0x7fc9c784cae0>, <KeyPoint 0x7fc9c784cb10>, <KeyPoint 0x7fc9c784cb40>) [[247 109  67 ... 163  50  16]\n",
      " [ 66  71  90 ... 242  37  41]\n",
      " [234 228 114 ... 148 230 248]\n",
      " ...\n",
      " [ 35 179 227 ... 142 246 245]\n",
      " [253 249 107 ... 154  48 112]\n",
      " [251 128 174 ... 172 124  82]]\n"
     ]
    }
   ],
   "source": [
    "img1 = cv2.imread('opencv-feature-matching-template.jpg',0)\n",
    "img2 = cv2.imread('opencv-feature-matching-image.jpg',0)\n",
    "\n",
    "orb = cv2.ORB_create()\n",
    "\n",
    "kp1, des1 = orb.detectAndCompute(img1,None)\n",
    "kp2, des2 = orb.detectAndCompute(img2,None)\n",
    "\n",
    "bf = cv2.BFMatcher(cv2.NORM_HAMMING, crossCheck=True)"
   ]
  },
  {
   "cell_type": "code",
   "execution_count": null,
   "metadata": {},
   "outputs": [],
   "source": []
  }
 ],
 "metadata": {
  "kernelspec": {
   "display_name": "Python 3 (ipykernel)",
   "language": "python",
   "name": "python3"
  },
  "language_info": {
   "codemirror_mode": {
    "name": "ipython",
    "version": 3
   },
   "file_extension": ".py",
   "mimetype": "text/x-python",
   "name": "python",
   "nbconvert_exporter": "python",
   "pygments_lexer": "ipython3",
   "version": "3.8.10"
  }
 },
 "nbformat": 4,
 "nbformat_minor": 4
}
