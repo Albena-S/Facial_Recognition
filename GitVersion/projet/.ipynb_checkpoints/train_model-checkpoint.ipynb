{
 "cells": [
  {
   "cell_type": "code",
   "execution_count": null,
   "id": "cf48fa39",
   "metadata": {},
   "outputs": [],
   "source": [
    "# import the necessary packages\n",
    "from sklearn.preprocessing import LabelEncoder\n",
    "from sklearn.svm import SVC\n",
    "import argparse\n",
    "import pickle\n",
    "# construct the argument parser and parse the arguments\n",
    "ap = argparse.ArgumentParser()\n",
    "ap.add_argument(\"-e\", \"--embeddings\", required=True,\n",
    "\thelp=\"path to serialized db of facial embeddings\")\n",
    "ap.add_argument(\"-r\", \"--recognizer\", required=True,\n",
    "\thelp=\"path to output model trained to recognize faces\")\n",
    "ap.add_argument(\"-l\", \"--le\", required=True,\n",
    "\thelp=\"path to output label encoder\")\n",
    "args = vars(ap.parse_args())\n",
    "\n",
    "class Args:\n",
    "    recognizer = 'output/recognizer.pickle'\n",
    "    embeddings = 'output/embeddings.pickle'\n",
    "    le = 'output/le.pickle'\n",
    "    "
   ]
  }
 ],
 "metadata": {
  "kernelspec": {
   "display_name": "Python 3 (ipykernel)",
   "language": "python",
   "name": "python3"
  },
  "language_info": {
   "codemirror_mode": {
    "name": "ipython",
    "version": 3
   },
   "file_extension": ".py",
   "mimetype": "text/x-python",
   "name": "python",
   "nbconvert_exporter": "python",
   "pygments_lexer": "ipython3",
   "version": "3.8.10"
  }
 },
 "nbformat": 4,
 "nbformat_minor": 5
}
